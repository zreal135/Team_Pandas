{
  "nbformat": 4,
  "nbformat_minor": 0,
  "metadata": {
    "colab": {
      "provenance": [],
      "authorship_tag": "ABX9TyMBAb5mTYdAQ+k3b1FdM/tm",
      "include_colab_link": true
    },
    "kernelspec": {
      "name": "python3",
      "display_name": "Python 3"
    },
    "language_info": {
      "name": "python"
    }
  },
  "cells": [
    {
      "cell_type": "markdown",
      "metadata": {
        "id": "view-in-github",
        "colab_type": "text"
      },
      "source": [
        "<a href=\"https://colab.research.google.com/github/zreal135/Team_Pandas/blob/main/Team_Pandas_DatafestAfrica_ML_Hackathon.ipynb\" target=\"_parent\"><img src=\"https://colab.research.google.com/assets/colab-badge.svg\" alt=\"Open In Colab\"/></a>"
      ]
    },
    {
      "cell_type": "markdown",
      "source": [
        "\n",
        "**DataFestAfrica ML Hackathon**"
      ],
      "metadata": {
        "id": "VCBvSYZZi4P-"
      }
    },
    {
      "cell_type": "code",
      "source": [
        "!pip install automl"
      ],
      "metadata": {
        "colab": {
          "base_uri": "https://localhost:8080/"
        },
        "id": "cWEIUTDbv_R5",
        "outputId": "d5665387-98f1-460f-c591-7e3a6b961ff2"
      },
      "execution_count": 1,
      "outputs": [
        {
          "output_type": "stream",
          "name": "stdout",
          "text": [
            "Looking in indexes: https://pypi.org/simple, https://us-python.pkg.dev/colab-wheels/public/simple/\n",
            "Requirement already satisfied: automl in /usr/local/lib/python3.7/dist-packages (2.9.9)\n",
            "Requirement already satisfied: pathos<0.3.0,>=0.2.1 in /usr/local/lib/python3.7/dist-packages (from automl) (0.2.3)\n",
            "Requirement already satisfied: numpy<2.0,>=1.11.0 in /usr/local/lib/python3.7/dist-packages (from automl) (1.21.6)\n",
            "Requirement already satisfied: pandas<1.0,>=0.18.0 in /usr/local/lib/python3.7/dist-packages (from automl) (0.25.3)\n",
            "Requirement already satisfied: python-dateutil<3.0,>=2.6.1 in /usr/local/lib/python3.7/dist-packages (from automl) (2.8.2)\n",
            "Requirement already satisfied: tabulate<1.0,>=0.7.5 in /usr/local/lib/python3.7/dist-packages (from automl) (0.8.10)\n",
            "Requirement already satisfied: h5py<3.0,>=2.7.0 in /usr/local/lib/python3.7/dist-packages (from automl) (2.10.0)\n",
            "Requirement already satisfied: scipy<2.0,>=0.14.0 in /usr/local/lib/python3.7/dist-packages (from automl) (1.7.3)\n",
            "Requirement already satisfied: scikit-learn<1.0,>=0.18.1 in /usr/local/lib/python3.7/dist-packages (from automl) (0.24.2)\n",
            "Requirement already satisfied: sklearn-deap2<0.3,>=0.2.1 in /usr/local/lib/python3.7/dist-packages (from automl) (0.2.2)\n",
            "Requirement already satisfied: dill<0.3,>=0.2.5 in /usr/local/lib/python3.7/dist-packages (from automl) (0.2.9)\n",
            "Requirement already satisfied: lightgbm<2.1,>=2.0.11 in /usr/local/lib/python3.7/dist-packages (from automl) (2.0.12)\n",
            "Requirement already satisfied: six in /usr/local/lib/python3.7/dist-packages (from h5py<3.0,>=2.7.0->automl) (1.15.0)\n",
            "Requirement already satisfied: pytz>=2017.2 in /usr/local/lib/python3.7/dist-packages (from pandas<1.0,>=0.18.0->automl) (2022.2.1)\n",
            "Requirement already satisfied: ppft>=1.6.4.9 in /usr/local/lib/python3.7/dist-packages (from pathos<0.3.0,>=0.2.1->automl) (1.7.6.5)\n",
            "Requirement already satisfied: multiprocess>=0.70.7 in /usr/local/lib/python3.7/dist-packages (from pathos<0.3.0,>=0.2.1->automl) (0.70.7)\n",
            "Requirement already satisfied: pox>=0.2.5 in /usr/local/lib/python3.7/dist-packages (from pathos<0.3.0,>=0.2.1->automl) (0.3.1)\n",
            "Requirement already satisfied: threadpoolctl>=2.0.0 in /usr/local/lib/python3.7/dist-packages (from scikit-learn<1.0,>=0.18.1->automl) (3.1.0)\n",
            "Requirement already satisfied: joblib>=0.11 in /usr/local/lib/python3.7/dist-packages (from scikit-learn<1.0,>=0.18.1->automl) (1.1.0)\n",
            "Requirement already satisfied: deap>=1.0.2 in /usr/local/lib/python3.7/dist-packages (from sklearn-deap2<0.3,>=0.2.1->automl) (1.3.3)\n"
          ]
        }
      ]
    },
    {
      "cell_type": "code",
      "execution_count": 2,
      "metadata": {
        "id": "uGjgIdP6Onjf"
      },
      "outputs": [],
      "source": [
        "import pandas as pd"
      ]
    },
    {
      "cell_type": "code",
      "source": [
        "train = pd.read_csv('https://raw.githubusercontent.com/zreal135/Team_Pandas/main/train.csv')\n",
        "test = pd.read_csv ('https://raw.githubusercontent.com/zreal135/Team_Pandas/main/test.csv')"
      ],
      "metadata": {
        "id": "-m9vgMZBtnMW"
      },
      "execution_count": 3,
      "outputs": []
    },
    {
      "cell_type": "code",
      "source": [],
      "metadata": {
        "id": "NKDR9Hqtxyyq"
      },
      "execution_count": null,
      "outputs": []
    }
  ]
}